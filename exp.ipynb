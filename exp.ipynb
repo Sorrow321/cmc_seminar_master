{
 "cells": [
  {
   "cell_type": "code",
   "execution_count": 1,
   "metadata": {},
   "outputs": [],
   "source": [
    "import torch\n",
    "from torch.utils.data import DataLoader\n",
    "import pandas as pd\n",
    "import numpy as np\n",
    "import copy\n",
    "import json\n",
    "import numpy as np\n",
    "import matplotlib.pyplot as plt \n",
    "import albumentations as A\n",
    "from albumentations.pytorch import ToTensorV2\n",
    "from pytorch_metric_learning import losses, miners, testers, samplers\n",
    "from pytorch_metric_learning.utils.accuracy_calculator import AccuracyCalculator\n",
    "from tqdm import tqdm\n",
    "import random\n",
    "import wandb"
   ]
  },
  {
   "cell_type": "code",
   "execution_count": 2,
   "metadata": {},
   "outputs": [],
   "source": [
    "from models.efficientnet import EffNetModel\n",
    "from models.swin import SwinTransformerModel\n",
    "from models.efficientnet_v2 import EffNetV2Model"
   ]
  },
  {
   "cell_type": "code",
   "execution_count": 3,
   "metadata": {},
   "outputs": [],
   "source": [
    "from datasets_handlers.base_dataset import BaseImageDataset, ClassLabelsMapper\n",
    "from datasets_handlers.dataset_cub import cub200_dataset\n",
    "from datasets_handlers.in_shop import in_shop_dataset\n",
    "from datasets_handlers.stanford_online_products import stanford_products_dataset"
   ]
  },
  {
   "cell_type": "code",
   "execution_count": 4,
   "metadata": {},
   "outputs": [],
   "source": [
    "torch.manual_seed(0)\n",
    "np.random.seed(0)\n",
    "random.seed(0)"
   ]
  },
  {
   "cell_type": "code",
   "execution_count": 5,
   "metadata": {},
   "outputs": [],
   "source": [
    "#stanford_train = stanford_products_dataset(split='train')\n",
    "#stanford_test = stanford_products_dataset(split='test')"
   ]
  },
  {
   "cell_type": "code",
   "execution_count": 6,
   "metadata": {},
   "outputs": [],
   "source": [
    "#cub200_train = cub200_dataset(split='train')\n",
    "#cub200_test = cub200_dataset(split='test')"
   ]
  },
  {
   "cell_type": "code",
   "execution_count": 7,
   "metadata": {},
   "outputs": [],
   "source": [
    "inshop_train = ClassLabelsMapper(in_shop_dataset(split='train'))\n",
    "inshop_gallery = in_shop_dataset(split='gallery')\n",
    "inshop_query = in_shop_dataset(split='query')"
   ]
  },
  {
   "cell_type": "code",
   "execution_count": 8,
   "metadata": {},
   "outputs": [],
   "source": [
    "image_size = 224\n",
    "train_transform = A.Compose(\n",
    "    [\n",
    "        #A.HorizontalFlip(p=0.5),\n",
    "        #A.ImageCompression(quality_lower=99, quality_upper=100),\n",
    "        #A.ShiftScaleRotate(shift_limit=0.2, scale_limit=0.2, rotate_limit=10, border_mode=0, p=0.7),\n",
    "        A.Resize(image_size, image_size),\n",
    "        #A.CoarseDropout(max_height=int(image_size * 0.4), max_width=int(image_size * 0.4), max_holes=1, p=0.5),\n",
    "        A.Normalize(\n",
    "            mean=[0.485, 0.456, 0.406],\n",
    "            std=[0.229, 0.224, 0.225],\n",
    "        ),\n",
    "        ToTensorV2()\n",
    "    ]\n",
    ")\n",
    "\n",
    "test_transform = A.Compose([\n",
    "    A.Resize(image_size, image_size),\n",
    "    A.Normalize(\n",
    "        mean=[0.485, 0.456, 0.406],\n",
    "        std=[0.229, 0.224, 0.225],\n",
    "    ),\n",
    "    ToTensorV2()\n",
    "])"
   ]
  },
  {
   "cell_type": "code",
   "execution_count": 9,
   "metadata": {},
   "outputs": [],
   "source": [
    "dataset_train = BaseImageDataset(inshop_train, path_prefix='data/', augmentations=train_transform)\n",
    "dataset_gallery = BaseImageDataset(inshop_gallery, path_prefix='data/', augmentations=test_transform)\n",
    "dataset_query = BaseImageDataset(inshop_query, path_prefix='data/', augmentations=test_transform)"
   ]
  },
  {
   "cell_type": "code",
   "execution_count": 10,
   "metadata": {},
   "outputs": [],
   "source": [
    "parameters = {\n",
    "    'dataset:': type(dataset_train.dataset.dataset).__name__,\n",
    "    'n_epochs': 100,\n",
    "    'batch_size': 64,\n",
    "    'lr': 1e-5\n",
    "}"
   ]
  },
  {
   "cell_type": "code",
   "execution_count": 11,
   "metadata": {},
   "outputs": [
    {
     "name": "stderr",
     "output_type": "stream",
     "text": [
      "\u001b[34m\u001b[1mwandb\u001b[0m: W&B API key is configured (use `wandb login --relogin` to force relogin)\n"
     ]
    },
    {
     "data": {
      "text/html": [
       "wandb version 0.12.15 is available!  To upgrade, please run:\n",
       " $ pip install wandb --upgrade"
      ],
      "text/plain": [
       "<IPython.core.display.HTML object>"
      ]
     },
     "metadata": {},
     "output_type": "display_data"
    },
    {
     "data": {
      "text/html": [
       "Tracking run with wandb version 0.12.14"
      ],
      "text/plain": [
       "<IPython.core.display.HTML object>"
      ]
     },
     "metadata": {},
     "output_type": "display_data"
    },
    {
     "data": {
      "text/html": [
       "Run data is saved locally in <code>/home/ilya/Desktop/seminar/cmc_seminar_master/wandb/run-20220501_031140-3o9ls6vu</code>"
      ],
      "text/plain": [
       "<IPython.core.display.HTML object>"
      ]
     },
     "metadata": {},
     "output_type": "display_data"
    },
    {
     "data": {
      "text/html": [
       "Syncing run <strong><a href=\"https://wandb.ai/ilya_fedorov/my-test-project/runs/3o9ls6vu\" target=\"_blank\">rosy-salad-44</a></strong> to <a href=\"https://wandb.ai/ilya_fedorov/my-test-project\" target=\"_blank\">Weights & Biases</a> (<a href=\"https://wandb.me/run\" target=\"_blank\">docs</a>)<br/>"
      ],
      "text/plain": [
       "<IPython.core.display.HTML object>"
      ]
     },
     "metadata": {},
     "output_type": "display_data"
    },
    {
     "data": {
      "text/html": [
       "<button onClick=\"this.nextSibling.style.display='block';this.style.display='none';\">Display W&B run</button><iframe src=\"https://wandb.ai/ilya_fedorov/my-test-project/runs/3o9ls6vu?jupyter=true\" style=\"border:none;width:100%;height:420px;display:none;\"></iframe>"
      ],
      "text/plain": [
       "<wandb.sdk.wandb_run.Run at 0x7f928f270fd0>"
      ]
     },
     "execution_count": 11,
     "metadata": {},
     "output_type": "execute_result"
    }
   ],
   "source": [
    "wandb.init(project=\"my-test-project\", entity=\"ilya_fedorov\", config=parameters)"
   ]
  },
  {
   "cell_type": "code",
   "execution_count": 12,
   "metadata": {},
   "outputs": [],
   "source": [
    "train_targets = []\n",
    "for x, target in inshop_train:\n",
    "    train_targets.append(target)"
   ]
  },
  {
   "cell_type": "code",
   "execution_count": 13,
   "metadata": {},
   "outputs": [],
   "source": [
    "loss_args = {'margin': 0.5}\n",
    "loss_func = losses.TripletMarginLoss(**loss_args)\n",
    "#loss_func = losses.ArcFaceLoss(embedding_size=1280, num_classes=3997)\n",
    "\n",
    "miner = miners.TripletMarginMiner(**loss_args)\n",
    "\n",
    "sampler = samplers.MPerClassSampler(\n",
    "    train_targets, m=4, length_before_new_iter=len(dataset_train)\n",
    ")"
   ]
  },
  {
   "cell_type": "code",
   "execution_count": 14,
   "metadata": {},
   "outputs": [],
   "source": [
    "dataloader_train = DataLoader(\n",
    "    dataset_train,\n",
    "    batch_size=parameters['batch_size'],\n",
    "    num_workers=8,\n",
    "    pin_memory=True,\n",
    "    sampler=sampler\n",
    ")"
   ]
  },
  {
   "cell_type": "code",
   "execution_count": 21,
   "metadata": {},
   "outputs": [],
   "source": [
    "#model = EffNetModel('efficientnet-b4').cuda()\n",
    "#model = SwinTransformerModel('microsoft/swin-base-patch4-window7-224')\n",
    "model = EffNetV2Model('tf_efficientnetv2_m')\n",
    "model.cuda()\n",
    "model = model.train()"
   ]
  },
  {
   "cell_type": "code",
   "execution_count": 22,
   "metadata": {},
   "outputs": [],
   "source": [
    "wandb.config.update({\"loss\": type(loss_func).__name__, \"model\": type(model).__name__, **loss_args})"
   ]
  },
  {
   "cell_type": "code",
   "execution_count": 23,
   "metadata": {},
   "outputs": [],
   "source": [
    "optimizer = torch.optim.AdamW(model.parameters(), lr=parameters['lr'])"
   ]
  },
  {
   "cell_type": "code",
   "execution_count": 24,
   "metadata": {},
   "outputs": [],
   "source": [
    "def get_all_embeddings(dataset, model):\n",
    "    tester = testers.BaseTester()\n",
    "    return tester.get_all_embeddings(dataset, model)\n",
    "\n",
    "def test(train_set, test_set, model, accuracy_calculator):\n",
    "    train_embeddings, train_labels = get_all_embeddings(train_set, model)\n",
    "    test_embeddings, test_labels = get_all_embeddings(test_set, model)\n",
    "    train_labels = train_labels.squeeze(1)\n",
    "    test_labels = test_labels.squeeze(1)\n",
    "    accuracies = accuracy_calculator.get_accuracy(\n",
    "        test_embeddings, train_embeddings, test_labels, train_labels, True\n",
    "    )\n",
    "    return accuracies"
   ]
  },
  {
   "cell_type": "code",
   "execution_count": 25,
   "metadata": {},
   "outputs": [],
   "source": [
    "accuracy_calculator = AccuracyCalculator(include=(\"mean_average_precision\", \"precision_at_1\"), k=5)"
   ]
  },
  {
   "cell_type": "code",
   "execution_count": null,
   "metadata": {},
   "outputs": [
    {
     "name": "stdout",
     "output_type": "stream",
     "text": [
      "Starting epoch 0\n"
     ]
    },
    {
     "name": "stderr",
     "output_type": "stream",
     "text": [
      " 25%|██████████▍                               | 62/250 [00:22<01:11,  2.63it/s]"
     ]
    }
   ],
   "source": [
    "for epoch in range(parameters['n_epochs']):\n",
    "    print(f'Starting epoch {epoch}')\n",
    "    wandb.log({\"epoch\": epoch})\n",
    "    \n",
    "    for i, (data, labels) in enumerate(tqdm(dataloader_train)):\n",
    "        data = data.cuda()\n",
    "        labels = labels.cuda()\n",
    "        optimizer.zero_grad()\n",
    "        embeddings = model(data)\n",
    "        hard_pairs = miner(embeddings, labels)\n",
    "        loss = loss_func(embeddings, labels)\n",
    "        wandb.log({\"train/loss\": loss})\n",
    "        loss.backward()\n",
    "        optimizer.step()\n",
    "        \n",
    "        # TODO loss averaging\n",
    "        \n",
    "    if epoch % 10 == 0:\n",
    "        # query!\n",
    "        model.eval()\n",
    "        test_results = test(dataset_gallery, dataset_query, model, accuracy_calculator)\n",
    "        wandb.log({\"test/map@1\": test_results['precision_at_1']})\n",
    "        wandb.log({\"test/map@5\": test_results['mean_average_precision']})\n",
    "        model.train()"
   ]
  },
  {
   "cell_type": "code",
   "execution_count": 21,
   "metadata": {},
   "outputs": [
    {
     "name": "stderr",
     "output_type": "stream",
     "text": [
      "100%|███████████████████████████████████████| 1861/1861 [01:33<00:00, 19.94it/s]\n",
      "100%|███████████████████████████████████████| 1861/1861 [01:33<00:00, 19.91it/s]\n"
     ]
    }
   ],
   "source": [
    "test_results = test(dataset_train, dataset_train, model, accuracy_calculator)"
   ]
  },
  {
   "cell_type": "code",
   "execution_count": 22,
   "metadata": {},
   "outputs": [
    {
     "data": {
      "text/plain": [
       "{'mean_average_precision': 0.8537094955024545,\n",
       " 'precision_at_1': 0.8352840422495005}"
      ]
     },
     "execution_count": 22,
     "metadata": {},
     "output_type": "execute_result"
    }
   ],
   "source": [
    "test_results"
   ]
  },
  {
   "cell_type": "code",
   "execution_count": null,
   "metadata": {},
   "outputs": [],
   "source": []
  }
 ],
 "metadata": {
  "kernelspec": {
   "display_name": "Python 3 (ipykernel)",
   "language": "python",
   "name": "python3"
  },
  "language_info": {
   "codemirror_mode": {
    "name": "ipython",
    "version": 3
   },
   "file_extension": ".py",
   "mimetype": "text/x-python",
   "name": "python",
   "nbconvert_exporter": "python",
   "pygments_lexer": "ipython3",
   "version": "3.9.7"
  }
 },
 "nbformat": 4,
 "nbformat_minor": 2
}
