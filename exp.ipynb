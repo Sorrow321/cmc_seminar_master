{
 "cells": [
  {
   "cell_type": "code",
   "execution_count": 1,
   "metadata": {},
   "outputs": [],
   "source": [
    "import torch\n",
    "from torch.utils.data import DataLoader\n",
    "import pandas as pd\n",
    "import numpy as np\n",
    "import copy\n",
    "import json\n",
    "import numpy as np\n",
    "import matplotlib.pyplot as plt \n",
    "import albumentations as A\n",
    "from albumentations.pytorch import ToTensorV2\n",
    "from models.efficientnet import EffNetModel\n",
    "from pytorch_metric_learning import losses, miners, testers\n",
    "from pytorch_metric_learning.utils.accuracy_calculator import AccuracyCalculator\n",
    "from tqdm import tqdm\n",
    "import wandb"
   ]
  },
  {
   "cell_type": "code",
   "execution_count": 2,
   "metadata": {},
   "outputs": [],
   "source": [
    "from datasets_handlers.base_dataset import BaseImageDataset\n",
    "from datasets_handlers.dataset_cub import cub200_dataset\n",
    "from datasets_handlers.in_shop import in_shop_dataset"
   ]
  },
  {
   "cell_type": "code",
   "execution_count": 14,
   "metadata": {},
   "outputs": [
    {
     "name": "stderr",
     "output_type": "stream",
     "text": [
      "\u001b[34m\u001b[1mwandb\u001b[0m: Currently logged in as: \u001b[33milya_fedorov\u001b[0m (use `wandb login --relogin` to force relogin)\n"
     ]
    },
    {
     "data": {
      "text/html": [
       "Tracking run with wandb version 0.12.14"
      ],
      "text/plain": [
       "<IPython.core.display.HTML object>"
      ]
     },
     "metadata": {},
     "output_type": "display_data"
    },
    {
     "data": {
      "text/html": [
       "Run data is saved locally in <code>/home/ilya/Desktop/seminar/cmc_seminar_master/wandb/run-20220418_010254-ykdrz3r7</code>"
      ],
      "text/plain": [
       "<IPython.core.display.HTML object>"
      ]
     },
     "metadata": {},
     "output_type": "display_data"
    },
    {
     "data": {
      "text/html": [
       "Syncing run <strong><a href=\"https://wandb.ai/ilya_fedorov/my-test-project/runs/ykdrz3r7\" target=\"_blank\">iconic-dawn-13</a></strong> to <a href=\"https://wandb.ai/ilya_fedorov/my-test-project\" target=\"_blank\">Weights & Biases</a> (<a href=\"https://wandb.me/run\" target=\"_blank\">docs</a>)<br/>"
      ],
      "text/plain": [
       "<IPython.core.display.HTML object>"
      ]
     },
     "metadata": {},
     "output_type": "display_data"
    },
    {
     "data": {
      "text/html": [
       "<button onClick=\"this.nextSibling.style.display='block';this.style.display='none';\">Display W&B run</button><iframe src=\"https://wandb.ai/ilya_fedorov/my-test-project/runs/ykdrz3r7?jupyter=true\" style=\"border:none;width:100%;height:420px;display:none;\"></iframe>"
      ],
      "text/plain": [
       "<wandb.sdk.wandb_run.Run at 0x7f196c280190>"
      ]
     },
     "execution_count": 14,
     "metadata": {},
     "output_type": "execute_result"
    }
   ],
   "source": [
    "wandb.init(project=\"my-test-project\", entity=\"ilya_fedorov\")"
   ]
  },
  {
   "cell_type": "code",
   "execution_count": 3,
   "metadata": {},
   "outputs": [],
   "source": [
    "cub200_train = cub200_dataset(split='train')\n",
    "cub200_test = cub200_dataset(split='test')"
   ]
  },
  {
   "cell_type": "code",
   "execution_count": 4,
   "metadata": {},
   "outputs": [],
   "source": [
    "inshop_train = in_shop_dataset(split='train')\n",
    "inshop_gallery = in_shop_dataset(split='gallery')\n",
    "inshop_query = in_shop_dataset(split='query')"
   ]
  },
  {
   "cell_type": "code",
   "execution_count": 6,
   "metadata": {},
   "outputs": [],
   "source": [
    "image_size = 224\n",
    "train_transform = A.Compose(\n",
    "    [\n",
    "        #A.HorizontalFlip(p=0.5),\n",
    "        #A.ImageCompression(quality_lower=99, quality_upper=100),\n",
    "        #A.ShiftScaleRotate(shift_limit=0.2, scale_limit=0.2, rotate_limit=10, border_mode=0, p=0.7),\n",
    "        A.Resize(image_size, image_size),\n",
    "        #A.CoarseDropout(max_height=int(image_size * 0.4), max_width=int(image_size * 0.4), max_holes=1, p=0.5),\n",
    "        A.Normalize(\n",
    "            mean=[0.485, 0.456, 0.406],\n",
    "            std=[0.229, 0.224, 0.225],\n",
    "        ),\n",
    "        ToTensorV2()\n",
    "    ]\n",
    ")\n",
    "\n",
    "test_transform = A.Compose([\n",
    "    A.Resize(image_size, image_size),\n",
    "    A.Normalize(\n",
    "        mean=[0.485, 0.456, 0.406],\n",
    "        std=[0.229, 0.224, 0.225],\n",
    "    ),\n",
    "    ToTensorV2()\n",
    "])"
   ]
  },
  {
   "cell_type": "code",
   "execution_count": 7,
   "metadata": {},
   "outputs": [],
   "source": [
    "dataset_train = BaseImageDataset(inshop_train, path_prefix='data/', augmentations=train_transform)\n",
    "dataset_gallery = BaseImageDataset(inshop_gallery, path_prefix='data/', augmentations=test_transform)\n",
    "dataset_query = BaseImageDataset(inshop_query, path_prefix='data/', augmentations=test_transform)"
   ]
  },
  {
   "cell_type": "code",
   "execution_count": 8,
   "metadata": {},
   "outputs": [],
   "source": [
    "parameters = {\n",
    "    'n_epochs': 10,\n",
    "    'batch_size': 16,\n",
    "    'lr': 1e-5\n",
    "}\n",
    "\n",
    "wandb.config = parameters"
   ]
  },
  {
   "cell_type": "code",
   "execution_count": 9,
   "metadata": {},
   "outputs": [],
   "source": [
    "dataloader_train = DataLoader(\n",
    "    dataset_train,\n",
    "    batch_size=parameters['batch_size'],\n",
    "    shuffle=True,\n",
    "    num_workers=8,\n",
    "    pin_memory=True\n",
    ")"
   ]
  },
  {
   "cell_type": "code",
   "execution_count": 10,
   "metadata": {},
   "outputs": [
    {
     "name": "stdout",
     "output_type": "stream",
     "text": [
      "Loaded pretrained weights for efficientnet-b0\n"
     ]
    }
   ],
   "source": [
    "model = EffNetModel('efficientnet-b0').cuda()\n",
    "model = model.train()"
   ]
  },
  {
   "cell_type": "code",
   "execution_count": 11,
   "metadata": {},
   "outputs": [],
   "source": [
    "loss_func = losses.TripletMarginLoss()\n",
    "#loss_func = losses.ArcFaceLoss(num_classes=200, embedding_size=1280).cuda()\n",
    "#miner = miners.MultiSimilarityMiner()"
   ]
  },
  {
   "cell_type": "code",
   "execution_count": 12,
   "metadata": {},
   "outputs": [],
   "source": [
    "optimizer = torch.optim.AdamW(model.parameters(), lr=parameters['lr'])\n",
    "#opt2 = torch.optim.AdamW(loss_func.parameters(), lr=parameters['lr'])"
   ]
  },
  {
   "cell_type": "code",
   "execution_count": 15,
   "metadata": {},
   "outputs": [
    {
     "name": "stderr",
     "output_type": "stream",
     "text": [
      "100%|███████████████████████████████████████| 1618/1618 [01:21<00:00, 19.94it/s]\n",
      "100%|███████████████████████████████████████| 1618/1618 [01:19<00:00, 20.39it/s]\n",
      "100%|███████████████████████████████████████| 1618/1618 [01:20<00:00, 20.09it/s]\n",
      "100%|███████████████████████████████████████| 1618/1618 [01:21<00:00, 19.78it/s]\n",
      "100%|███████████████████████████████████████| 1618/1618 [01:21<00:00, 19.93it/s]\n",
      "100%|███████████████████████████████████████| 1618/1618 [01:17<00:00, 20.87it/s]\n",
      "100%|███████████████████████████████████████| 1618/1618 [01:17<00:00, 21.01it/s]\n",
      "100%|███████████████████████████████████████| 1618/1618 [01:17<00:00, 20.95it/s]\n",
      "100%|███████████████████████████████████████| 1618/1618 [01:16<00:00, 21.08it/s]\n",
      "100%|███████████████████████████████████████| 1618/1618 [01:16<00:00, 21.02it/s]\n"
     ]
    }
   ],
   "source": [
    "for epoch in range(parameters['n_epochs']):\n",
    "    for data, labels in tqdm(dataloader_train):\n",
    "        data = data.cuda()\n",
    "        labels = labels.cuda()\n",
    "        optimizer.zero_grad()\n",
    "        embeddings = model(data)\n",
    "        #hard_pairs = miner(embeddings, labels)\n",
    "        loss = loss_func(embeddings, labels)\n",
    "        wandb.log({\"loss\": loss})\n",
    "        loss.backward()\n",
    "        optimizer.step()\n",
    "        #opt2.step()"
   ]
  },
  {
   "cell_type": "code",
   "execution_count": 18,
   "metadata": {},
   "outputs": [],
   "source": [
    "def get_all_embeddings(dataset, model):\n",
    "    tester = testers.BaseTester()\n",
    "    return tester.get_all_embeddings(dataset, model)\n",
    "\n",
    "\n",
    "### compute accuracy using AccuracyCalculator from pytorch-metric-learning ###\n",
    "def test(train_set, test_set, model, accuracy_calculator):\n",
    "    train_embeddings, train_labels = get_all_embeddings(train_set, model)\n",
    "    test_embeddings, test_labels = get_all_embeddings(test_set, model)\n",
    "    train_labels = train_labels.squeeze(1)\n",
    "    test_labels = test_labels.squeeze(1)\n",
    "    print(\"Computing accuracy\")\n",
    "    accuracies = accuracy_calculator.get_accuracy(\n",
    "        test_embeddings, train_embeddings, test_labels, train_labels, False\n",
    "    )\n",
    "    print(\"Test set accuracy (Precision@1) = {}\".format(accuracies[\"precision_at_1\"]))"
   ]
  },
  {
   "cell_type": "code",
   "execution_count": 19,
   "metadata": {},
   "outputs": [],
   "source": [
    "accuracy_calculator = AccuracyCalculator(include=(\"precision_at_1\",), k=1)"
   ]
  },
  {
   "cell_type": "code",
   "execution_count": 20,
   "metadata": {
    "scrolled": true
   },
   "outputs": [
    {
     "name": "stderr",
     "output_type": "stream",
     "text": [
      "100%|█████████████████████████████████████████| 395/395 [00:12<00:00, 32.77it/s]\n",
      "100%|█████████████████████████████████████████| 445/445 [00:13<00:00, 33.51it/s]\n"
     ]
    },
    {
     "name": "stdout",
     "output_type": "stream",
     "text": [
      "Computing accuracy\n",
      "Test set accuracy (Precision@1) = 0.3639752426501618\n"
     ]
    }
   ],
   "source": [
    "test(dataset_gallery, dataset_query, model, accuracy_calculator)"
   ]
  },
  {
   "cell_type": "code",
   "execution_count": 21,
   "metadata": {},
   "outputs": [
    {
     "name": "stderr",
     "output_type": "stream",
     "text": [
      "100%|█████████████████████████████████████████| 809/809 [00:22<00:00, 36.40it/s]\n",
      "100%|█████████████████████████████████████████| 809/809 [00:23<00:00, 34.06it/s]\n"
     ]
    },
    {
     "name": "stdout",
     "output_type": "stream",
     "text": [
      "Computing accuracy\n",
      "Test set accuracy (Precision@1) = 1.0\n"
     ]
    }
   ],
   "source": [
    "test(dataset_train, dataset_train, model, accuracy_calculator)"
   ]
  },
  {
   "cell_type": "code",
   "execution_count": null,
   "metadata": {},
   "outputs": [],
   "source": []
  }
 ],
 "metadata": {
  "kernelspec": {
   "display_name": "Python 3 (ipykernel)",
   "language": "python",
   "name": "python3"
  },
  "language_info": {
   "codemirror_mode": {
    "name": "ipython",
    "version": 3
   },
   "file_extension": ".py",
   "mimetype": "text/x-python",
   "name": "python",
   "nbconvert_exporter": "python",
   "pygments_lexer": "ipython3",
   "version": "3.9.7"
  }
 },
 "nbformat": 4,
 "nbformat_minor": 2
}
