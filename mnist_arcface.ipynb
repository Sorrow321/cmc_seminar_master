{
 "cells": [
  {
   "cell_type": "code",
   "execution_count": 2,
   "metadata": {
    "_uuid": "f115d23be2337ba2d3779f1023b0f0fe1a1f2a05",
    "id": "aa27yVFlovmP"
   },
   "outputs": [],
   "source": [
    "import torch, torchvision\n",
    "from torchvision import datasets, transforms\n",
    "from torch import nn, optim\n",
    "from torch.nn import functional as F\n",
    "\n",
    "import numpy as np"
   ]
  },
  {
   "cell_type": "code",
   "execution_count": 17,
   "metadata": {
    "id": "ro7R-eXNLiGI"
   },
   "outputs": [],
   "source": [
    "import torch\n",
    "import torch.nn as nn\n",
    "import torch.nn.functional as F\n",
    "\n",
    "\n",
    "class ArcFace(nn.Module):\n",
    "    def __init__(self, in_features, n_classes, m, s):\n",
    "        super(ArcFace, self).__init__()\n",
    "        self.m = m\n",
    "        self.s = s\n",
    "        self.n_classes = n_classes\n",
    "        k = torch.sqrt(torch.tensor(1 / in_features))\n",
    "        self.weight = nn.Parameter(\n",
    "            2 * k * torch.rand(n_classes, in_features) - k,\n",
    "            requires_grad=True\n",
    "        )\n",
    "\n",
    "    def forward(self, input, labels=None):\n",
    "        # normalize inputs, W and perform FC\n",
    "        x = F.linear(\n",
    "            F.normalize(input),\n",
    "            F.normalize(self.weight)\n",
    "        )\n",
    "        if labels is None:\n",
    "            # inference mode\n",
    "            return x\n",
    "        # for numerical stability\n",
    "        x = x.clamp(-1, 1)\n",
    "        # apply arccos\n",
    "        x = torch.acos(x)\n",
    "        # get indexes for labels\n",
    "        idxes = F.one_hot(labels, self.n_classes) == 1\n",
    "        # add margin\n",
    "        x[idxes] += self.m\n",
    "        # return back to cos\n",
    "        x = torch.cos(x)\n",
    "        # rescale\n",
    "        x = x * self.s\n",
    "        return x"
   ]
  },
  {
   "cell_type": "markdown",
   "metadata": {
    "id": "0A5zGl-VS4gH"
   },
   "source": [
    "**ArcFace**"
   ]
  },
  {
   "cell_type": "markdown",
   "metadata": {
    "id": "zSF1otsfSyZZ"
   },
   "source": []
  },
  {
   "cell_type": "code",
   "execution_count": 33,
   "metadata": {
    "id": "Mc0oudXwpwAV"
   },
   "outputs": [],
   "source": [
    "batch_size = 128\n",
    "num_epochs = 5\n",
    "device = torch.device('cpu')\n",
    "\n",
    "class Net(nn.Module):\n",
    "    def __init__(self):\n",
    "        super(Net, self).__init__()\n",
    "\n",
    "        self.conv_layers = nn.Sequential(\n",
    "            nn.Conv2d(1, 10, kernel_size=5),\n",
    "            nn.MaxPool2d(2),\n",
    "            nn.ReLU(),\n",
    "            nn.Conv2d(10, 20, kernel_size=5),\n",
    "            nn.Dropout(),\n",
    "            nn.MaxPool2d(2),\n",
    "            nn.ReLU(),\n",
    "        )\n",
    "        self.fc_layers = nn.Sequential(\n",
    "            nn.Linear(320, 50),\n",
    "            nn.ReLU(),\n",
    "            nn.Dropout()\n",
    "        )\n",
    "        m = 0.4\n",
    "        s = 2\n",
    "        self.arcface_layer = ArcFace(50, 10, m, s)\n",
    "\n",
    "    def forward(self, x, labels=None):\n",
    "        x = self.conv_layers(x)\n",
    "        x = x.view(-1, 320)\n",
    "        x = self.fc_layers(x)\n",
    "        x = self.arcface_layer(x, labels)\n",
    "        return x"
   ]
  },
  {
   "cell_type": "code",
   "execution_count": 34,
   "metadata": {
    "_uuid": "a2b4c79b30629a20e10c2494e23e4ba25a0aeef7",
    "colab": {
     "base_uri": "https://localhost:8080/"
    },
    "id": "92CH-EwpovmT",
    "outputId": "5c4f2b26-4755-47f2-a8c2-faebbac7c809"
   },
   "outputs": [
    {
     "name": "stdout",
     "output_type": "stream",
     "text": [
      "Train Epoch: 1 [0/60000 (0%)]\tLoss: 3.072172\n",
      "Train Epoch: 1 [12800/60000 (21%)]\tLoss: 2.586266\n",
      "Train Epoch: 1 [25600/60000 (43%)]\tLoss: 2.276436\n",
      "Train Epoch: 1 [38400/60000 (64%)]\tLoss: 2.102610\n",
      "Train Epoch: 1 [51200/60000 (85%)]\tLoss: 2.061810\n",
      "\n",
      "Test set: Average loss: 0.0126, Accuracy: 9263/10000 (93%)\n",
      "\n",
      "Train Epoch: 2 [0/60000 (0%)]\tLoss: 1.996693\n",
      "Train Epoch: 2 [12800/60000 (21%)]\tLoss: 1.981841\n",
      "Train Epoch: 2 [25600/60000 (43%)]\tLoss: 1.954064\n",
      "Train Epoch: 2 [38400/60000 (64%)]\tLoss: 1.937971\n",
      "Train Epoch: 2 [51200/60000 (85%)]\tLoss: 1.936182\n",
      "\n",
      "Test set: Average loss: 0.0121, Accuracy: 9530/10000 (95%)\n",
      "\n",
      "Train Epoch: 3 [0/60000 (0%)]\tLoss: 1.921602\n",
      "Train Epoch: 3 [12800/60000 (21%)]\tLoss: 1.845205\n",
      "Train Epoch: 3 [25600/60000 (43%)]\tLoss: 1.816983\n",
      "Train Epoch: 3 [38400/60000 (64%)]\tLoss: 1.836913\n",
      "Train Epoch: 3 [51200/60000 (85%)]\tLoss: 1.880275\n",
      "\n",
      "Test set: Average loss: 0.0118, Accuracy: 9656/10000 (97%)\n",
      "\n",
      "Train Epoch: 4 [0/60000 (0%)]\tLoss: 1.861480\n",
      "Train Epoch: 4 [12800/60000 (21%)]\tLoss: 1.893418\n",
      "Train Epoch: 4 [25600/60000 (43%)]\tLoss: 1.752088\n",
      "Train Epoch: 4 [38400/60000 (64%)]\tLoss: 1.871932\n",
      "Train Epoch: 4 [51200/60000 (85%)]\tLoss: 1.709617\n",
      "\n",
      "Test set: Average loss: 0.0118, Accuracy: 9647/10000 (96%)\n",
      "\n",
      "Train Epoch: 5 [0/60000 (0%)]\tLoss: 1.742575\n",
      "Train Epoch: 5 [12800/60000 (21%)]\tLoss: 1.809158\n",
      "Train Epoch: 5 [25600/60000 (43%)]\tLoss: 1.767653\n",
      "Train Epoch: 5 [38400/60000 (64%)]\tLoss: 1.746006\n",
      "Train Epoch: 5 [51200/60000 (85%)]\tLoss: 1.757123\n",
      "\n",
      "Test set: Average loss: 0.0116, Accuracy: 9710/10000 (97%)\n",
      "\n"
     ]
    }
   ],
   "source": [
    "\n",
    "def train(model, device, train_loader, optimizer, epoch):\n",
    "    model.train()\n",
    "    for batch_idx, (data, target) in enumerate(train_loader):\n",
    "        data, target = data.to(device), target.to(device)\n",
    "        optimizer.zero_grad()\n",
    "        output = model(data, target)\n",
    "        loss = F.cross_entropy(output, target)\n",
    "        loss.backward()\n",
    "        optimizer.step()\n",
    "        if batch_idx % 100 == 0:\n",
    "            print('Train Epoch: {} [{}/{} ({:.0f}%)]\\tLoss: {:.6f}'.format(\n",
    "                epoch, batch_idx * len(data), len(train_loader.dataset),\n",
    "                100. * batch_idx / len(train_loader), loss.item()))\n",
    "\n",
    "def test(model, device, test_loader):\n",
    "    model.eval()\n",
    "    test_loss = 0\n",
    "    correct = 0\n",
    "    with torch.no_grad():\n",
    "        for data, target in test_loader:\n",
    "            data, target = data.to(device), target.to(device)\n",
    "            output = model(data)\n",
    "            test_loss += F.cross_entropy(output, target).item() # sum up batch loss\n",
    "            pred = output.max(1, keepdim=True)[1] # get the index of the max log-probability\n",
    "            correct += pred.eq(target.view_as(pred)).sum().item()\n",
    "\n",
    "    test_loss /= len(test_loader.dataset)\n",
    "    print('\\nTest set: Average loss: {:.4f}, Accuracy: {}/{} ({:.0f}%)\\n'.format(\n",
    "        test_loss, correct, len(test_loader.dataset),\n",
    "    100. * correct / len(test_loader.dataset)))\n",
    "\n",
    "train_loader = torch.utils.data.DataLoader(\n",
    "    datasets.MNIST('mnist_data', train=True, download=True,\n",
    "                   transform=transforms.Compose([\n",
    "                       transforms.ToTensor()\n",
    "                   ])),\n",
    "    batch_size=batch_size, shuffle=True)\n",
    "\n",
    "test_loader = torch.utils.data.DataLoader(\n",
    "    datasets.MNIST('mnist_data', train=False, transform=transforms.Compose([\n",
    "                       transforms.ToTensor()\n",
    "                   ])),\n",
    "    batch_size=batch_size, shuffle=True)\n",
    "\n",
    "model = Net().to(device)\n",
    "optimizer = optim.SGD(model.parameters(), lr=0.01, momentum=0.5)\n",
    "\n",
    "for epoch in range(1, num_epochs + 1):\n",
    "    train(model, device, train_loader, optimizer, epoch)\n",
    "    test(model, device, test_loader)"
   ]
  },
  {
   "cell_type": "markdown",
   "metadata": {
    "id": "04GGpN_KUXoL"
   },
   "source": [
    "**Default FC+SM+CE**"
   ]
  },
  {
   "cell_type": "code",
   "execution_count": 31,
   "metadata": {
    "id": "DVrHgteLUeoB"
   },
   "outputs": [],
   "source": [
    "batch_size = 128\n",
    "num_epochs = 5\n",
    "device = torch.device('cpu')\n",
    "\n",
    "class Net(nn.Module):\n",
    "    def __init__(self):\n",
    "        super(Net, self).__init__()\n",
    "\n",
    "        self.conv_layers = nn.Sequential(\n",
    "            nn.Conv2d(1, 10, kernel_size=5),\n",
    "            nn.MaxPool2d(2),\n",
    "            nn.ReLU(),\n",
    "            nn.Conv2d(10, 20, kernel_size=5),\n",
    "            nn.Dropout(),\n",
    "            nn.MaxPool2d(2),\n",
    "            nn.ReLU(),\n",
    "        )\n",
    "        self.fc_layers = nn.Sequential(\n",
    "            nn.Linear(320, 50),\n",
    "            nn.ReLU(),\n",
    "            nn.Dropout(),\n",
    "            nn.Linear(50, 10)\n",
    "        )\n",
    "\n",
    "    def forward(self, x):\n",
    "        x = self.conv_layers(x)\n",
    "        x = x.view(-1, 320)\n",
    "        x = self.fc_layers(x)\n",
    "        return x"
   ]
  },
  {
   "cell_type": "code",
   "execution_count": 32,
   "metadata": {
    "colab": {
     "base_uri": "https://localhost:8080/"
    },
    "id": "Ia1GUnNJUkLx",
    "outputId": "9db967a6-486e-42d1-e0d3-c956d161be87"
   },
   "outputs": [
    {
     "name": "stdout",
     "output_type": "stream",
     "text": [
      "Train Epoch: 1 [0/60000 (0%)]\tLoss: 2.318436\n",
      "Train Epoch: 1 [12800/60000 (21%)]\tLoss: 2.232664\n",
      "Train Epoch: 1 [25600/60000 (43%)]\tLoss: 1.599157\n",
      "Train Epoch: 1 [38400/60000 (64%)]\tLoss: 1.124471\n",
      "Train Epoch: 1 [51200/60000 (85%)]\tLoss: 0.963092\n",
      "\n",
      "Test set: Average loss: 0.0052, Accuracy: 8803/10000 (88%)\n",
      "\n",
      "Train Epoch: 2 [0/60000 (0%)]\tLoss: 0.790134\n",
      "Train Epoch: 2 [12800/60000 (21%)]\tLoss: 0.780597\n",
      "Train Epoch: 2 [25600/60000 (43%)]\tLoss: 0.559510\n",
      "Train Epoch: 2 [38400/60000 (64%)]\tLoss: 0.528535\n",
      "Train Epoch: 2 [51200/60000 (85%)]\tLoss: 0.669486\n",
      "\n",
      "Test set: Average loss: 0.0027, Accuracy: 9310/10000 (93%)\n",
      "\n",
      "Train Epoch: 3 [0/60000 (0%)]\tLoss: 0.512292\n",
      "Train Epoch: 3 [12800/60000 (21%)]\tLoss: 0.427146\n",
      "Train Epoch: 3 [25600/60000 (43%)]\tLoss: 0.351245\n",
      "Train Epoch: 3 [38400/60000 (64%)]\tLoss: 0.592325\n",
      "Train Epoch: 3 [51200/60000 (85%)]\tLoss: 0.511728\n",
      "\n",
      "Test set: Average loss: 0.0019, Accuracy: 9471/10000 (95%)\n",
      "\n",
      "Train Epoch: 4 [0/60000 (0%)]\tLoss: 0.324899\n",
      "Train Epoch: 4 [12800/60000 (21%)]\tLoss: 0.256597\n",
      "Train Epoch: 4 [25600/60000 (43%)]\tLoss: 0.428175\n",
      "Train Epoch: 4 [38400/60000 (64%)]\tLoss: 0.378432\n",
      "Train Epoch: 4 [51200/60000 (85%)]\tLoss: 0.247610\n",
      "\n",
      "Test set: Average loss: 0.0015, Accuracy: 9557/10000 (96%)\n",
      "\n",
      "Train Epoch: 5 [0/60000 (0%)]\tLoss: 0.361078\n",
      "Train Epoch: 5 [12800/60000 (21%)]\tLoss: 0.276560\n",
      "Train Epoch: 5 [25600/60000 (43%)]\tLoss: 0.265331\n",
      "Train Epoch: 5 [38400/60000 (64%)]\tLoss: 0.168735\n",
      "Train Epoch: 5 [51200/60000 (85%)]\tLoss: 0.292777\n",
      "\n",
      "Test set: Average loss: 0.0013, Accuracy: 9619/10000 (96%)\n",
      "\n"
     ]
    }
   ],
   "source": [
    "\n",
    "def train(model, device, train_loader, optimizer, epoch):\n",
    "    model.train()\n",
    "    for batch_idx, (data, target) in enumerate(train_loader):\n",
    "        data, target = data.to(device), target.to(device)\n",
    "        optimizer.zero_grad()\n",
    "        output = model(data)\n",
    "        loss = F.cross_entropy(output, target)\n",
    "        loss.backward()\n",
    "        optimizer.step()\n",
    "        if batch_idx % 100 == 0:\n",
    "            print('Train Epoch: {} [{}/{} ({:.0f}%)]\\tLoss: {:.6f}'.format(\n",
    "                epoch, batch_idx * len(data), len(train_loader.dataset),\n",
    "                100. * batch_idx / len(train_loader), loss.item()))\n",
    "\n",
    "def test(model, device, test_loader):\n",
    "    model.eval()\n",
    "    test_loss = 0\n",
    "    correct = 0\n",
    "    with torch.no_grad():\n",
    "        for data, target in test_loader:\n",
    "            data, target = data.to(device), target.to(device)\n",
    "            output = model(data)\n",
    "            test_loss += F.cross_entropy(output, target).item() # sum up batch loss\n",
    "            pred = output.max(1, keepdim=True)[1] # get the index of the max log-probability\n",
    "            correct += pred.eq(target.view_as(pred)).sum().item()\n",
    "\n",
    "    test_loss /= len(test_loader.dataset)\n",
    "    print('\\nTest set: Average loss: {:.4f}, Accuracy: {}/{} ({:.0f}%)\\n'.format(\n",
    "        test_loss, correct, len(test_loader.dataset),\n",
    "    100. * correct / len(test_loader.dataset)))\n",
    "\n",
    "train_loader = torch.utils.data.DataLoader(\n",
    "    datasets.MNIST('mnist_data', train=True, download=True,\n",
    "                   transform=transforms.Compose([\n",
    "                       transforms.ToTensor()\n",
    "                   ])),\n",
    "    batch_size=batch_size, shuffle=True)\n",
    "\n",
    "test_loader = torch.utils.data.DataLoader(\n",
    "    datasets.MNIST('mnist_data', train=False, transform=transforms.Compose([\n",
    "                       transforms.ToTensor()\n",
    "                   ])),\n",
    "    batch_size=batch_size, shuffle=True)\n",
    "\n",
    "model = Net().to(device)\n",
    "optimizer = optim.SGD(model.parameters(), lr=0.01, momentum=0.5)\n",
    "\n",
    "for epoch in range(1, num_epochs + 1):\n",
    "    train(model, device, train_loader, optimizer, epoch)\n",
    "    test(model, device, test_loader)"
   ]
  },
  {
   "cell_type": "code",
   "execution_count": null,
   "metadata": {
    "id": "dzY9JGsCUm-Y"
   },
   "outputs": [],
   "source": []
  }
 ],
 "metadata": {
  "colab": {
   "collapsed_sections": [],
   "name": "pytorch-deep-explainer-mnist-example.ipynb",
   "provenance": []
  },
  "kernelspec": {
   "display_name": "Python 3 (ipykernel)",
   "language": "python",
   "name": "python3"
  },
  "language_info": {
   "codemirror_mode": {
    "name": "ipython",
    "version": 3
   },
   "file_extension": ".py",
   "mimetype": "text/x-python",
   "name": "python",
   "nbconvert_exporter": "python",
   "pygments_lexer": "ipython3",
   "version": "3.9.7"
  }
 },
 "nbformat": 4,
 "nbformat_minor": 1
}
