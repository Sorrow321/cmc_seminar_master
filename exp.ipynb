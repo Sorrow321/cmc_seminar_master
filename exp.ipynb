{
 "cells": [
  {
   "cell_type": "code",
   "execution_count": 1,
   "metadata": {},
   "outputs": [],
   "source": [
    "import torch\n",
    "from torch.utils.data import DataLoader\n",
    "import pandas as pd\n",
    "import numpy as np\n",
    "import copy\n",
    "import time\n",
    "import json\n",
    "import numpy as np\n",
    "import matplotlib.pyplot as plt \n",
    "import albumentations as A\n",
    "from albumentations.pytorch import ToTensorV2\n",
    "from pytorch_metric_learning import losses, miners, testers, samplers\n",
    "from pytorch_metric_learning.utils.accuracy_calculator import AccuracyCalculator\n",
    "from tqdm import tqdm\n",
    "import random\n",
    "import wandb"
   ]
  },
  {
   "cell_type": "code",
   "execution_count": 2,
   "metadata": {},
   "outputs": [],
   "source": [
    "from models.efficientnet import EffNetModel\n",
    "from models.swin import SwinTransformerModel\n",
    "from models.efficientnet_v2 import EffNetV2Model"
   ]
  },
  {
   "cell_type": "code",
   "execution_count": 3,
   "metadata": {},
   "outputs": [],
   "source": [
    "from datasets_handlers.base_dataset import BaseImageDataset, ClassLabelsMapper\n",
    "from datasets_handlers.dataset_cub import cub200_dataset\n",
    "from datasets_handlers.in_shop import in_shop_dataset\n",
    "from datasets_handlers.stanford_online_products import stanford_products_dataset\n",
    "from datasets_handlers.google_landmark import google_landmark_dataset"
   ]
  },
  {
   "cell_type": "code",
   "execution_count": 4,
   "metadata": {},
   "outputs": [],
   "source": [
    "torch.manual_seed(0)\n",
    "np.random.seed(0)\n",
    "random.seed(0)"
   ]
  },
  {
   "cell_type": "code",
   "execution_count": 5,
   "metadata": {},
   "outputs": [],
   "source": [
    "#stanford_train = stanford_products_dataset(split='train')\n",
    "#stanford_test = stanford_products_dataset(split='test')"
   ]
  },
  {
   "cell_type": "code",
   "execution_count": 6,
   "metadata": {},
   "outputs": [],
   "source": [
    "cub200_train = cub200_dataset(split='train')\n",
    "cub200_test = cub200_dataset(split='test')"
   ]
  },
  {
   "cell_type": "code",
   "execution_count": 7,
   "metadata": {},
   "outputs": [],
   "source": [
    "#inshop_train = in_shop_dataset(split='train')\n",
    "#inshop_gallery = in_shop_dataset(split='gallery')\n",
    "#inshop_query = in_shop_dataset(split='query')"
   ]
  },
  {
   "cell_type": "code",
   "execution_count": 8,
   "metadata": {},
   "outputs": [],
   "source": [
    "#glm_train = google_landmark_dataset()"
   ]
  },
  {
   "cell_type": "code",
   "execution_count": 9,
   "metadata": {},
   "outputs": [],
   "source": [
    "image_size = 224\n",
    "train_transform = A.Compose(\n",
    "    [\n",
    "        A.HorizontalFlip(p=0.5),\n",
    "        A.ImageCompression(quality_lower=99, quality_upper=100),\n",
    "        A.ShiftScaleRotate(shift_limit=0.2, scale_limit=0.2, rotate_limit=10, border_mode=0, p=0.7),\n",
    "        A.Resize(image_size, image_size),\n",
    "        A.CoarseDropout(max_height=int(image_size * 0.4), max_width=int(image_size * 0.4), max_holes=1, p=0.5),\n",
    "        A.Normalize(\n",
    "            mean=[0.485, 0.456, 0.406],\n",
    "            std=[0.229, 0.224, 0.225],\n",
    "        ),\n",
    "        ToTensorV2()\n",
    "    ]\n",
    ")\n",
    "\n",
    "test_transform = A.Compose([\n",
    "    A.Resize(image_size, image_size),\n",
    "    A.Normalize(\n",
    "        mean=[0.485, 0.456, 0.406],\n",
    "        std=[0.229, 0.224, 0.225],\n",
    "    ),\n",
    "    ToTensorV2()\n",
    "])"
   ]
  },
  {
   "cell_type": "code",
   "execution_count": 10,
   "metadata": {},
   "outputs": [],
   "source": [
    "dataset_train = BaseImageDataset(ClassLabelsMapper(cub200_train), path_prefix='data/', augmentations=train_transform)\n",
    "dataset_test = BaseImageDataset(cub200_test, path_prefix='data/', augmentations=test_transform)\n",
    "#dataset_query = BaseImageDataset(inshop_query, path_prefix='data/', augmentations=test_transform)\n",
    "#dataset_gallery = BaseImageDataset(inshop_gallery, path_prefix='data/', augmentations=test_transform)\n",
    "#dataset_query = BaseImageDataset(inshop_query, path_prefix='data/', augmentations=test_transform)"
   ]
  },
  {
   "cell_type": "code",
   "execution_count": 11,
   "metadata": {},
   "outputs": [],
   "source": [
    "parameters = {\n",
    "    'dataset:': type(dataset_train.dataset.dataset).__name__,\n",
    "    'n_epochs': 500,\n",
    "    'batch_size': 16,\n",
    "    'lr': 1e-5\n",
    "}"
   ]
  },
  {
   "cell_type": "code",
   "execution_count": 12,
   "metadata": {},
   "outputs": [
    {
     "name": "stderr",
     "output_type": "stream",
     "text": [
      "\u001b[34m\u001b[1mwandb\u001b[0m: Currently logged in as: \u001b[33milya_fedorov\u001b[0m (use `wandb login --relogin` to force relogin)\n"
     ]
    },
    {
     "data": {
      "text/html": [
       "wandb version 0.12.16 is available!  To upgrade, please run:\n",
       " $ pip install wandb --upgrade"
      ],
      "text/plain": [
       "<IPython.core.display.HTML object>"
      ]
     },
     "metadata": {},
     "output_type": "display_data"
    },
    {
     "data": {
      "text/html": [
       "Tracking run with wandb version 0.12.14"
      ],
      "text/plain": [
       "<IPython.core.display.HTML object>"
      ]
     },
     "metadata": {},
     "output_type": "display_data"
    },
    {
     "data": {
      "text/html": [
       "Run data is saved locally in <code>/home/ilya/Desktop/seminar/cmc_seminar_master/wandb/run-20220506_112319-2x0a9rim</code>"
      ],
      "text/plain": [
       "<IPython.core.display.HTML object>"
      ]
     },
     "metadata": {},
     "output_type": "display_data"
    },
    {
     "data": {
      "text/html": [
       "Syncing run <strong><a href=\"https://wandb.ai/ilya_fedorov/my-test-project/runs/2x0a9rim\" target=\"_blank\">distinctive-sea-98</a></strong> to <a href=\"https://wandb.ai/ilya_fedorov/my-test-project\" target=\"_blank\">Weights & Biases</a> (<a href=\"https://wandb.me/run\" target=\"_blank\">docs</a>)<br/>"
      ],
      "text/plain": [
       "<IPython.core.display.HTML object>"
      ]
     },
     "metadata": {},
     "output_type": "display_data"
    },
    {
     "data": {
      "text/html": [
       "<button onClick=\"this.nextSibling.style.display='block';this.style.display='none';\">Display W&B run</button><iframe src=\"https://wandb.ai/ilya_fedorov/my-test-project/runs/2x0a9rim?jupyter=true\" style=\"border:none;width:100%;height:420px;display:none;\"></iframe>"
      ],
      "text/plain": [
       "<wandb.sdk.wandb_run.Run at 0x7f314c5fdb20>"
      ]
     },
     "execution_count": 12,
     "metadata": {},
     "output_type": "execute_result"
    }
   ],
   "source": [
    "wandb.init(project=\"my-test-project\", entity=\"ilya_fedorov\", config=parameters)"
   ]
  },
  {
   "cell_type": "code",
   "execution_count": 13,
   "metadata": {},
   "outputs": [
    {
     "name": "stdout",
     "output_type": "stream",
     "text": [
      "CPU times: user 872 µs, sys: 362 µs, total: 1.23 ms\n",
      "Wall time: 1.24 ms\n"
     ]
    }
   ],
   "source": [
    "%%time\n",
    "train_targets = []\n",
    "for x, target in cub200_train:\n",
    "    train_targets.append(target)"
   ]
  },
  {
   "cell_type": "code",
   "execution_count": 14,
   "metadata": {},
   "outputs": [],
   "source": [
    "sampler = samplers.MPerClassSampler(\n",
    "    train_targets, m=4, length_before_new_iter=len(dataset_train)\n",
    ")"
   ]
  },
  {
   "cell_type": "code",
   "execution_count": 15,
   "metadata": {},
   "outputs": [],
   "source": [
    "dataloader_train = DataLoader(\n",
    "    dataset_train,\n",
    "    batch_size=parameters['batch_size'],\n",
    "    num_workers=8,\n",
    "    pin_memory=True,\n",
    "    sampler=sampler\n",
    ")"
   ]
  },
  {
   "cell_type": "code",
   "execution_count": 16,
   "metadata": {},
   "outputs": [],
   "source": [
    "#model = EffNetModel('efficientnet-b0').cuda()\n",
    "#model = SwinTransformerModel('microsoft/swin-base-patch4-window7-224')\n",
    "timm_model_name = 'tf_efficientnetv2_m'\n",
    "model = EffNetV2Model(1280, timm_model_name)\n",
    "model.cuda()\n",
    "model = model.train()"
   ]
  },
  {
   "cell_type": "code",
   "execution_count": 17,
   "metadata": {},
   "outputs": [
    {
     "name": "stdout",
     "output_type": "stream",
     "text": [
      "54170100\n",
      "1024\n"
     ]
    }
   ],
   "source": [
    "embedding_size = model(dataset_train[0][0].unsqueeze(0).cuda()).shape[1]\n",
    "train_n_classes = len(dataset_train.dataset.labels_map)\n",
    "model_total_params = sum(p.numel() for p in model.parameters())\n",
    "print(model_total_params)\n",
    "print(embedding_size)"
   ]
  },
  {
   "cell_type": "code",
   "execution_count": 18,
   "metadata": {},
   "outputs": [],
   "source": [
    "import time"
   ]
  },
  {
   "cell_type": "code",
   "execution_count": 71,
   "metadata": {},
   "outputs": [
    {
     "data": {
      "text/plain": [
       "EffNetV2Model(\n",
       "  (model): MlpMixer(\n",
       "    (stem): PatchEmbed(\n",
       "      (proj): Conv2d(3, 384, kernel_size=(16, 16), stride=(16, 16))\n",
       "      (norm): Identity()\n",
       "    )\n",
       "    (blocks): Sequential(\n",
       "      (0): ResBlock(\n",
       "        (norm1): Affine()\n",
       "        (linear_tokens): Linear(in_features=196, out_features=196, bias=True)\n",
       "        (drop_path): Identity()\n",
       "        (norm2): Affine()\n",
       "        (mlp_channels): Mlp(\n",
       "          (fc1): Linear(in_features=384, out_features=1536, bias=True)\n",
       "          (act): GELU()\n",
       "          (drop1): Dropout(p=0.0, inplace=False)\n",
       "          (fc2): Linear(in_features=1536, out_features=384, bias=True)\n",
       "          (drop2): Dropout(p=0.0, inplace=False)\n",
       "        )\n",
       "      )\n",
       "      (1): ResBlock(\n",
       "        (norm1): Affine()\n",
       "        (linear_tokens): Linear(in_features=196, out_features=196, bias=True)\n",
       "        (drop_path): Identity()\n",
       "        (norm2): Affine()\n",
       "        (mlp_channels): Mlp(\n",
       "          (fc1): Linear(in_features=384, out_features=1536, bias=True)\n",
       "          (act): GELU()\n",
       "          (drop1): Dropout(p=0.0, inplace=False)\n",
       "          (fc2): Linear(in_features=1536, out_features=384, bias=True)\n",
       "          (drop2): Dropout(p=0.0, inplace=False)\n",
       "        )\n",
       "      )\n",
       "      (2): ResBlock(\n",
       "        (norm1): Affine()\n",
       "        (linear_tokens): Linear(in_features=196, out_features=196, bias=True)\n",
       "        (drop_path): Identity()\n",
       "        (norm2): Affine()\n",
       "        (mlp_channels): Mlp(\n",
       "          (fc1): Linear(in_features=384, out_features=1536, bias=True)\n",
       "          (act): GELU()\n",
       "          (drop1): Dropout(p=0.0, inplace=False)\n",
       "          (fc2): Linear(in_features=1536, out_features=384, bias=True)\n",
       "          (drop2): Dropout(p=0.0, inplace=False)\n",
       "        )\n",
       "      )\n",
       "      (3): ResBlock(\n",
       "        (norm1): Affine()\n",
       "        (linear_tokens): Linear(in_features=196, out_features=196, bias=True)\n",
       "        (drop_path): Identity()\n",
       "        (norm2): Affine()\n",
       "        (mlp_channels): Mlp(\n",
       "          (fc1): Linear(in_features=384, out_features=1536, bias=True)\n",
       "          (act): GELU()\n",
       "          (drop1): Dropout(p=0.0, inplace=False)\n",
       "          (fc2): Linear(in_features=1536, out_features=384, bias=True)\n",
       "          (drop2): Dropout(p=0.0, inplace=False)\n",
       "        )\n",
       "      )\n",
       "      (4): ResBlock(\n",
       "        (norm1): Affine()\n",
       "        (linear_tokens): Linear(in_features=196, out_features=196, bias=True)\n",
       "        (drop_path): Identity()\n",
       "        (norm2): Affine()\n",
       "        (mlp_channels): Mlp(\n",
       "          (fc1): Linear(in_features=384, out_features=1536, bias=True)\n",
       "          (act): GELU()\n",
       "          (drop1): Dropout(p=0.0, inplace=False)\n",
       "          (fc2): Linear(in_features=1536, out_features=384, bias=True)\n",
       "          (drop2): Dropout(p=0.0, inplace=False)\n",
       "        )\n",
       "      )\n",
       "      (5): ResBlock(\n",
       "        (norm1): Affine()\n",
       "        (linear_tokens): Linear(in_features=196, out_features=196, bias=True)\n",
       "        (drop_path): Identity()\n",
       "        (norm2): Affine()\n",
       "        (mlp_channels): Mlp(\n",
       "          (fc1): Linear(in_features=384, out_features=1536, bias=True)\n",
       "          (act): GELU()\n",
       "          (drop1): Dropout(p=0.0, inplace=False)\n",
       "          (fc2): Linear(in_features=1536, out_features=384, bias=True)\n",
       "          (drop2): Dropout(p=0.0, inplace=False)\n",
       "        )\n",
       "      )\n",
       "      (6): ResBlock(\n",
       "        (norm1): Affine()\n",
       "        (linear_tokens): Linear(in_features=196, out_features=196, bias=True)\n",
       "        (drop_path): Identity()\n",
       "        (norm2): Affine()\n",
       "        (mlp_channels): Mlp(\n",
       "          (fc1): Linear(in_features=384, out_features=1536, bias=True)\n",
       "          (act): GELU()\n",
       "          (drop1): Dropout(p=0.0, inplace=False)\n",
       "          (fc2): Linear(in_features=1536, out_features=384, bias=True)\n",
       "          (drop2): Dropout(p=0.0, inplace=False)\n",
       "        )\n",
       "      )\n",
       "      (7): ResBlock(\n",
       "        (norm1): Affine()\n",
       "        (linear_tokens): Linear(in_features=196, out_features=196, bias=True)\n",
       "        (drop_path): Identity()\n",
       "        (norm2): Affine()\n",
       "        (mlp_channels): Mlp(\n",
       "          (fc1): Linear(in_features=384, out_features=1536, bias=True)\n",
       "          (act): GELU()\n",
       "          (drop1): Dropout(p=0.0, inplace=False)\n",
       "          (fc2): Linear(in_features=1536, out_features=384, bias=True)\n",
       "          (drop2): Dropout(p=0.0, inplace=False)\n",
       "        )\n",
       "      )\n",
       "      (8): ResBlock(\n",
       "        (norm1): Affine()\n",
       "        (linear_tokens): Linear(in_features=196, out_features=196, bias=True)\n",
       "        (drop_path): Identity()\n",
       "        (norm2): Affine()\n",
       "        (mlp_channels): Mlp(\n",
       "          (fc1): Linear(in_features=384, out_features=1536, bias=True)\n",
       "          (act): GELU()\n",
       "          (drop1): Dropout(p=0.0, inplace=False)\n",
       "          (fc2): Linear(in_features=1536, out_features=384, bias=True)\n",
       "          (drop2): Dropout(p=0.0, inplace=False)\n",
       "        )\n",
       "      )\n",
       "      (9): ResBlock(\n",
       "        (norm1): Affine()\n",
       "        (linear_tokens): Linear(in_features=196, out_features=196, bias=True)\n",
       "        (drop_path): Identity()\n",
       "        (norm2): Affine()\n",
       "        (mlp_channels): Mlp(\n",
       "          (fc1): Linear(in_features=384, out_features=1536, bias=True)\n",
       "          (act): GELU()\n",
       "          (drop1): Dropout(p=0.0, inplace=False)\n",
       "          (fc2): Linear(in_features=1536, out_features=384, bias=True)\n",
       "          (drop2): Dropout(p=0.0, inplace=False)\n",
       "        )\n",
       "      )\n",
       "      (10): ResBlock(\n",
       "        (norm1): Affine()\n",
       "        (linear_tokens): Linear(in_features=196, out_features=196, bias=True)\n",
       "        (drop_path): Identity()\n",
       "        (norm2): Affine()\n",
       "        (mlp_channels): Mlp(\n",
       "          (fc1): Linear(in_features=384, out_features=1536, bias=True)\n",
       "          (act): GELU()\n",
       "          (drop1): Dropout(p=0.0, inplace=False)\n",
       "          (fc2): Linear(in_features=1536, out_features=384, bias=True)\n",
       "          (drop2): Dropout(p=0.0, inplace=False)\n",
       "        )\n",
       "      )\n",
       "      (11): ResBlock(\n",
       "        (norm1): Affine()\n",
       "        (linear_tokens): Linear(in_features=196, out_features=196, bias=True)\n",
       "        (drop_path): Identity()\n",
       "        (norm2): Affine()\n",
       "        (mlp_channels): Mlp(\n",
       "          (fc1): Linear(in_features=384, out_features=1536, bias=True)\n",
       "          (act): GELU()\n",
       "          (drop1): Dropout(p=0.0, inplace=False)\n",
       "          (fc2): Linear(in_features=1536, out_features=384, bias=True)\n",
       "          (drop2): Dropout(p=0.0, inplace=False)\n",
       "        )\n",
       "      )\n",
       "      (12): ResBlock(\n",
       "        (norm1): Affine()\n",
       "        (linear_tokens): Linear(in_features=196, out_features=196, bias=True)\n",
       "        (drop_path): Identity()\n",
       "        (norm2): Affine()\n",
       "        (mlp_channels): Mlp(\n",
       "          (fc1): Linear(in_features=384, out_features=1536, bias=True)\n",
       "          (act): GELU()\n",
       "          (drop1): Dropout(p=0.0, inplace=False)\n",
       "          (fc2): Linear(in_features=1536, out_features=384, bias=True)\n",
       "          (drop2): Dropout(p=0.0, inplace=False)\n",
       "        )\n",
       "      )\n",
       "      (13): ResBlock(\n",
       "        (norm1): Affine()\n",
       "        (linear_tokens): Linear(in_features=196, out_features=196, bias=True)\n",
       "        (drop_path): Identity()\n",
       "        (norm2): Affine()\n",
       "        (mlp_channels): Mlp(\n",
       "          (fc1): Linear(in_features=384, out_features=1536, bias=True)\n",
       "          (act): GELU()\n",
       "          (drop1): Dropout(p=0.0, inplace=False)\n",
       "          (fc2): Linear(in_features=1536, out_features=384, bias=True)\n",
       "          (drop2): Dropout(p=0.0, inplace=False)\n",
       "        )\n",
       "      )\n",
       "      (14): ResBlock(\n",
       "        (norm1): Affine()\n",
       "        (linear_tokens): Linear(in_features=196, out_features=196, bias=True)\n",
       "        (drop_path): Identity()\n",
       "        (norm2): Affine()\n",
       "        (mlp_channels): Mlp(\n",
       "          (fc1): Linear(in_features=384, out_features=1536, bias=True)\n",
       "          (act): GELU()\n",
       "          (drop1): Dropout(p=0.0, inplace=False)\n",
       "          (fc2): Linear(in_features=1536, out_features=384, bias=True)\n",
       "          (drop2): Dropout(p=0.0, inplace=False)\n",
       "        )\n",
       "      )\n",
       "      (15): ResBlock(\n",
       "        (norm1): Affine()\n",
       "        (linear_tokens): Linear(in_features=196, out_features=196, bias=True)\n",
       "        (drop_path): Identity()\n",
       "        (norm2): Affine()\n",
       "        (mlp_channels): Mlp(\n",
       "          (fc1): Linear(in_features=384, out_features=1536, bias=True)\n",
       "          (act): GELU()\n",
       "          (drop1): Dropout(p=0.0, inplace=False)\n",
       "          (fc2): Linear(in_features=1536, out_features=384, bias=True)\n",
       "          (drop2): Dropout(p=0.0, inplace=False)\n",
       "        )\n",
       "      )\n",
       "      (16): ResBlock(\n",
       "        (norm1): Affine()\n",
       "        (linear_tokens): Linear(in_features=196, out_features=196, bias=True)\n",
       "        (drop_path): Identity()\n",
       "        (norm2): Affine()\n",
       "        (mlp_channels): Mlp(\n",
       "          (fc1): Linear(in_features=384, out_features=1536, bias=True)\n",
       "          (act): GELU()\n",
       "          (drop1): Dropout(p=0.0, inplace=False)\n",
       "          (fc2): Linear(in_features=1536, out_features=384, bias=True)\n",
       "          (drop2): Dropout(p=0.0, inplace=False)\n",
       "        )\n",
       "      )\n",
       "      (17): ResBlock(\n",
       "        (norm1): Affine()\n",
       "        (linear_tokens): Linear(in_features=196, out_features=196, bias=True)\n",
       "        (drop_path): Identity()\n",
       "        (norm2): Affine()\n",
       "        (mlp_channels): Mlp(\n",
       "          (fc1): Linear(in_features=384, out_features=1536, bias=True)\n",
       "          (act): GELU()\n",
       "          (drop1): Dropout(p=0.0, inplace=False)\n",
       "          (fc2): Linear(in_features=1536, out_features=384, bias=True)\n",
       "          (drop2): Dropout(p=0.0, inplace=False)\n",
       "        )\n",
       "      )\n",
       "      (18): ResBlock(\n",
       "        (norm1): Affine()\n",
       "        (linear_tokens): Linear(in_features=196, out_features=196, bias=True)\n",
       "        (drop_path): Identity()\n",
       "        (norm2): Affine()\n",
       "        (mlp_channels): Mlp(\n",
       "          (fc1): Linear(in_features=384, out_features=1536, bias=True)\n",
       "          (act): GELU()\n",
       "          (drop1): Dropout(p=0.0, inplace=False)\n",
       "          (fc2): Linear(in_features=1536, out_features=384, bias=True)\n",
       "          (drop2): Dropout(p=0.0, inplace=False)\n",
       "        )\n",
       "      )\n",
       "      (19): ResBlock(\n",
       "        (norm1): Affine()\n",
       "        (linear_tokens): Linear(in_features=196, out_features=196, bias=True)\n",
       "        (drop_path): Identity()\n",
       "        (norm2): Affine()\n",
       "        (mlp_channels): Mlp(\n",
       "          (fc1): Linear(in_features=384, out_features=1536, bias=True)\n",
       "          (act): GELU()\n",
       "          (drop1): Dropout(p=0.0, inplace=False)\n",
       "          (fc2): Linear(in_features=1536, out_features=384, bias=True)\n",
       "          (drop2): Dropout(p=0.0, inplace=False)\n",
       "        )\n",
       "      )\n",
       "      (20): ResBlock(\n",
       "        (norm1): Affine()\n",
       "        (linear_tokens): Linear(in_features=196, out_features=196, bias=True)\n",
       "        (drop_path): Identity()\n",
       "        (norm2): Affine()\n",
       "        (mlp_channels): Mlp(\n",
       "          (fc1): Linear(in_features=384, out_features=1536, bias=True)\n",
       "          (act): GELU()\n",
       "          (drop1): Dropout(p=0.0, inplace=False)\n",
       "          (fc2): Linear(in_features=1536, out_features=384, bias=True)\n",
       "          (drop2): Dropout(p=0.0, inplace=False)\n",
       "        )\n",
       "      )\n",
       "      (21): ResBlock(\n",
       "        (norm1): Affine()\n",
       "        (linear_tokens): Linear(in_features=196, out_features=196, bias=True)\n",
       "        (drop_path): Identity()\n",
       "        (norm2): Affine()\n",
       "        (mlp_channels): Mlp(\n",
       "          (fc1): Linear(in_features=384, out_features=1536, bias=True)\n",
       "          (act): GELU()\n",
       "          (drop1): Dropout(p=0.0, inplace=False)\n",
       "          (fc2): Linear(in_features=1536, out_features=384, bias=True)\n",
       "          (drop2): Dropout(p=0.0, inplace=False)\n",
       "        )\n",
       "      )\n",
       "      (22): ResBlock(\n",
       "        (norm1): Affine()\n",
       "        (linear_tokens): Linear(in_features=196, out_features=196, bias=True)\n",
       "        (drop_path): Identity()\n",
       "        (norm2): Affine()\n",
       "        (mlp_channels): Mlp(\n",
       "          (fc1): Linear(in_features=384, out_features=1536, bias=True)\n",
       "          (act): GELU()\n",
       "          (drop1): Dropout(p=0.0, inplace=False)\n",
       "          (fc2): Linear(in_features=1536, out_features=384, bias=True)\n",
       "          (drop2): Dropout(p=0.0, inplace=False)\n",
       "        )\n",
       "      )\n",
       "      (23): ResBlock(\n",
       "        (norm1): Affine()\n",
       "        (linear_tokens): Linear(in_features=196, out_features=196, bias=True)\n",
       "        (drop_path): Identity()\n",
       "        (norm2): Affine()\n",
       "        (mlp_channels): Mlp(\n",
       "          (fc1): Linear(in_features=384, out_features=1536, bias=True)\n",
       "          (act): GELU()\n",
       "          (drop1): Dropout(p=0.0, inplace=False)\n",
       "          (fc2): Linear(in_features=1536, out_features=384, bias=True)\n",
       "          (drop2): Dropout(p=0.0, inplace=False)\n",
       "        )\n",
       "      )\n",
       "      (24): ResBlock(\n",
       "        (norm1): Affine()\n",
       "        (linear_tokens): Linear(in_features=196, out_features=196, bias=True)\n",
       "        (drop_path): Identity()\n",
       "        (norm2): Affine()\n",
       "        (mlp_channels): Mlp(\n",
       "          (fc1): Linear(in_features=384, out_features=1536, bias=True)\n",
       "          (act): GELU()\n",
       "          (drop1): Dropout(p=0.0, inplace=False)\n",
       "          (fc2): Linear(in_features=1536, out_features=384, bias=True)\n",
       "          (drop2): Dropout(p=0.0, inplace=False)\n",
       "        )\n",
       "      )\n",
       "      (25): ResBlock(\n",
       "        (norm1): Affine()\n",
       "        (linear_tokens): Linear(in_features=196, out_features=196, bias=True)\n",
       "        (drop_path): Identity()\n",
       "        (norm2): Affine()\n",
       "        (mlp_channels): Mlp(\n",
       "          (fc1): Linear(in_features=384, out_features=1536, bias=True)\n",
       "          (act): GELU()\n",
       "          (drop1): Dropout(p=0.0, inplace=False)\n",
       "          (fc2): Linear(in_features=1536, out_features=384, bias=True)\n",
       "          (drop2): Dropout(p=0.0, inplace=False)\n",
       "        )\n",
       "      )\n",
       "      (26): ResBlock(\n",
       "        (norm1): Affine()\n",
       "        (linear_tokens): Linear(in_features=196, out_features=196, bias=True)\n",
       "        (drop_path): Identity()\n",
       "        (norm2): Affine()\n",
       "        (mlp_channels): Mlp(\n",
       "          (fc1): Linear(in_features=384, out_features=1536, bias=True)\n",
       "          (act): GELU()\n",
       "          (drop1): Dropout(p=0.0, inplace=False)\n",
       "          (fc2): Linear(in_features=1536, out_features=384, bias=True)\n",
       "          (drop2): Dropout(p=0.0, inplace=False)\n",
       "        )\n",
       "      )\n",
       "      (27): ResBlock(\n",
       "        (norm1): Affine()\n",
       "        (linear_tokens): Linear(in_features=196, out_features=196, bias=True)\n",
       "        (drop_path): Identity()\n",
       "        (norm2): Affine()\n",
       "        (mlp_channels): Mlp(\n",
       "          (fc1): Linear(in_features=384, out_features=1536, bias=True)\n",
       "          (act): GELU()\n",
       "          (drop1): Dropout(p=0.0, inplace=False)\n",
       "          (fc2): Linear(in_features=1536, out_features=384, bias=True)\n",
       "          (drop2): Dropout(p=0.0, inplace=False)\n",
       "        )\n",
       "      )\n",
       "      (28): ResBlock(\n",
       "        (norm1): Affine()\n",
       "        (linear_tokens): Linear(in_features=196, out_features=196, bias=True)\n",
       "        (drop_path): Identity()\n",
       "        (norm2): Affine()\n",
       "        (mlp_channels): Mlp(\n",
       "          (fc1): Linear(in_features=384, out_features=1536, bias=True)\n",
       "          (act): GELU()\n",
       "          (drop1): Dropout(p=0.0, inplace=False)\n",
       "          (fc2): Linear(in_features=1536, out_features=384, bias=True)\n",
       "          (drop2): Dropout(p=0.0, inplace=False)\n",
       "        )\n",
       "      )\n",
       "      (29): ResBlock(\n",
       "        (norm1): Affine()\n",
       "        (linear_tokens): Linear(in_features=196, out_features=196, bias=True)\n",
       "        (drop_path): Identity()\n",
       "        (norm2): Affine()\n",
       "        (mlp_channels): Mlp(\n",
       "          (fc1): Linear(in_features=384, out_features=1536, bias=True)\n",
       "          (act): GELU()\n",
       "          (drop1): Dropout(p=0.0, inplace=False)\n",
       "          (fc2): Linear(in_features=1536, out_features=384, bias=True)\n",
       "          (drop2): Dropout(p=0.0, inplace=False)\n",
       "        )\n",
       "      )\n",
       "      (30): ResBlock(\n",
       "        (norm1): Affine()\n",
       "        (linear_tokens): Linear(in_features=196, out_features=196, bias=True)\n",
       "        (drop_path): Identity()\n",
       "        (norm2): Affine()\n",
       "        (mlp_channels): Mlp(\n",
       "          (fc1): Linear(in_features=384, out_features=1536, bias=True)\n",
       "          (act): GELU()\n",
       "          (drop1): Dropout(p=0.0, inplace=False)\n",
       "          (fc2): Linear(in_features=1536, out_features=384, bias=True)\n",
       "          (drop2): Dropout(p=0.0, inplace=False)\n",
       "        )\n",
       "      )\n",
       "      (31): ResBlock(\n",
       "        (norm1): Affine()\n",
       "        (linear_tokens): Linear(in_features=196, out_features=196, bias=True)\n",
       "        (drop_path): Identity()\n",
       "        (norm2): Affine()\n",
       "        (mlp_channels): Mlp(\n",
       "          (fc1): Linear(in_features=384, out_features=1536, bias=True)\n",
       "          (act): GELU()\n",
       "          (drop1): Dropout(p=0.0, inplace=False)\n",
       "          (fc2): Linear(in_features=1536, out_features=384, bias=True)\n",
       "          (drop2): Dropout(p=0.0, inplace=False)\n",
       "        )\n",
       "      )\n",
       "      (32): ResBlock(\n",
       "        (norm1): Affine()\n",
       "        (linear_tokens): Linear(in_features=196, out_features=196, bias=True)\n",
       "        (drop_path): Identity()\n",
       "        (norm2): Affine()\n",
       "        (mlp_channels): Mlp(\n",
       "          (fc1): Linear(in_features=384, out_features=1536, bias=True)\n",
       "          (act): GELU()\n",
       "          (drop1): Dropout(p=0.0, inplace=False)\n",
       "          (fc2): Linear(in_features=1536, out_features=384, bias=True)\n",
       "          (drop2): Dropout(p=0.0, inplace=False)\n",
       "        )\n",
       "      )\n",
       "      (33): ResBlock(\n",
       "        (norm1): Affine()\n",
       "        (linear_tokens): Linear(in_features=196, out_features=196, bias=True)\n",
       "        (drop_path): Identity()\n",
       "        (norm2): Affine()\n",
       "        (mlp_channels): Mlp(\n",
       "          (fc1): Linear(in_features=384, out_features=1536, bias=True)\n",
       "          (act): GELU()\n",
       "          (drop1): Dropout(p=0.0, inplace=False)\n",
       "          (fc2): Linear(in_features=1536, out_features=384, bias=True)\n",
       "          (drop2): Dropout(p=0.0, inplace=False)\n",
       "        )\n",
       "      )\n",
       "      (34): ResBlock(\n",
       "        (norm1): Affine()\n",
       "        (linear_tokens): Linear(in_features=196, out_features=196, bias=True)\n",
       "        (drop_path): Identity()\n",
       "        (norm2): Affine()\n",
       "        (mlp_channels): Mlp(\n",
       "          (fc1): Linear(in_features=384, out_features=1536, bias=True)\n",
       "          (act): GELU()\n",
       "          (drop1): Dropout(p=0.0, inplace=False)\n",
       "          (fc2): Linear(in_features=1536, out_features=384, bias=True)\n",
       "          (drop2): Dropout(p=0.0, inplace=False)\n",
       "        )\n",
       "      )\n",
       "      (35): ResBlock(\n",
       "        (norm1): Affine()\n",
       "        (linear_tokens): Linear(in_features=196, out_features=196, bias=True)\n",
       "        (drop_path): Identity()\n",
       "        (norm2): Affine()\n",
       "        (mlp_channels): Mlp(\n",
       "          (fc1): Linear(in_features=384, out_features=1536, bias=True)\n",
       "          (act): GELU()\n",
       "          (drop1): Dropout(p=0.0, inplace=False)\n",
       "          (fc2): Linear(in_features=1536, out_features=384, bias=True)\n",
       "          (drop2): Dropout(p=0.0, inplace=False)\n",
       "        )\n",
       "      )\n",
       "    )\n",
       "    (norm): Affine()\n",
       "    (head): Identity()\n",
       "  )\n",
       "  (lin): Linear(in_features=384, out_features=1024, bias=True)\n",
       ")"
      ]
     },
     "execution_count": 71,
     "metadata": {},
     "output_type": "execute_result"
    }
   ],
   "source": [
    "model.eval()\n",
    "\n",
    "t0 = time.time()\n",
    "with torch.no_grad():\n",
    "    s = 0\n",
    "    for img, label in dataloader_train:\n",
    "        img = img.cuda()\n",
    "        out = model(img)\n",
    "        s += 1\n",
    "        \n",
    "        if time.time() - t0 > 1:\n",
    "            t1 = time.time()\n",
    "            break\n",
    "\n",
    "model.train()"
   ]
  },
  {
   "cell_type": "code",
   "execution_count": 72,
   "metadata": {},
   "outputs": [
    {
     "data": {
      "text/plain": [
       "21"
      ]
     },
     "execution_count": 72,
     "metadata": {},
     "output_type": "execute_result"
    }
   ],
   "source": [
    "s"
   ]
  },
  {
   "cell_type": "code",
   "execution_count": 73,
   "metadata": {},
   "outputs": [
    {
     "data": {
      "text/plain": [
       "331.70046445111893"
      ]
     },
     "execution_count": 73,
     "metadata": {},
     "output_type": "execute_result"
    }
   ],
   "source": [
    "21 * 16 / (t1 - t0)"
   ]
  },
  {
   "cell_type": "code",
   "execution_count": 35,
   "metadata": {},
   "outputs": [
    {
     "data": {
      "text/plain": [
       "1.0221006870269775"
      ]
     },
     "execution_count": 35,
     "metadata": {},
     "output_type": "execute_result"
    }
   ],
   "source": [
    "t1 - t0"
   ]
  },
  {
   "cell_type": "code",
   "execution_count": 19,
   "metadata": {},
   "outputs": [],
   "source": [
    "loss_args = {'margin': 0.02}\n",
    "loss_func = losses.TripletMarginLoss(**loss_args)\n",
    "#loss_func = losses.ArcFaceLoss(embedding_size=embedding_size, num_classes=train_n_classes).cuda()\n",
    "\n",
    "miner = miners.TripletMarginMiner(**loss_args)"
   ]
  },
  {
   "cell_type": "code",
   "execution_count": 20,
   "metadata": {},
   "outputs": [],
   "source": [
    "dataset_gallery = dataset_test\n",
    "dataset_query = dataset_test\n",
    "\n",
    "skip_first_neighbour = dataset_query == dataset_gallery"
   ]
  },
  {
   "cell_type": "code",
   "execution_count": 21,
   "metadata": {},
   "outputs": [],
   "source": [
    "wandb.config.update({\"skip_first_neighbour\": skip_first_neighbour, \n",
    "                     \"loss\": type(loss_func).__name__, \n",
    "                     \"model\": type(model).__name__,\n",
    "                     \"timm_model_name\": timm_model_name,\n",
    "                     \"embedding_size\": embedding_size,\n",
    "                     \"train_n_classes\": train_n_classes,\n",
    "                     \"model_total_parameters\": model_total_params,\n",
    "                     **loss_args\n",
    "})"
   ]
  },
  {
   "cell_type": "code",
   "execution_count": 22,
   "metadata": {},
   "outputs": [],
   "source": [
    "optimizer = torch.optim.AdamW(model.parameters(), lr=parameters['lr'])\n",
    "\n",
    "scheduler = torch.optim.lr_scheduler.LinearLR(optimizer,\n",
    "                                              start_factor=1.0,\n",
    "                                              end_factor=0.1,\n",
    "                                              total_iters=parameters['n_epochs'])"
   ]
  },
  {
   "cell_type": "code",
   "execution_count": 23,
   "metadata": {},
   "outputs": [],
   "source": [
    "def get_all_embeddings(dataset, model):\n",
    "    tester = testers.BaseTester()\n",
    "    return tester.get_all_embeddings(dataset, model)\n",
    "\n",
    "def test(train_set, test_set, model, accuracy_calculator):\n",
    "    train_embeddings, train_labels = get_all_embeddings(train_set, model)\n",
    "    if train_set != test_set:\n",
    "        test_embeddings, test_labels = get_all_embeddings(test_set, model)\n",
    "    else:\n",
    "        test_embeddings, test_labels = train_embeddings, train_labels\n",
    "    train_labels = train_labels.squeeze(1)\n",
    "    test_labels = test_labels.squeeze(1)\n",
    "    accuracies = accuracy_calculator.get_accuracy(\n",
    "        test_embeddings, train_embeddings, test_labels, train_labels, skip_first_neighbour\n",
    "    )\n",
    "    return accuracies"
   ]
  },
  {
   "cell_type": "code",
   "execution_count": 24,
   "metadata": {},
   "outputs": [],
   "source": [
    "accuracy_calculator = AccuracyCalculator(include=(\"mean_average_precision\", \"precision_at_1\"), k=5)"
   ]
  },
  {
   "cell_type": "code",
   "execution_count": null,
   "metadata": {},
   "outputs": [
    {
     "name": "stderr",
     "output_type": "stream",
     "text": [
      "100%|███████████████████████████████████████████| 95/95 [00:05<00:00, 15.96it/s]\n"
     ]
    },
    {
     "name": "stdout",
     "output_type": "stream",
     "text": [
      "Starting epoch 0\n"
     ]
    },
    {
     "name": "stderr",
     "output_type": "stream",
     "text": [
      "100%|█████████████████████████████████████████| 150/150 [00:22<00:00,  6.54it/s]\n"
     ]
    },
    {
     "name": "stdout",
     "output_type": "stream",
     "text": [
      "Starting epoch 1\n"
     ]
    },
    {
     "name": "stderr",
     "output_type": "stream",
     "text": [
      "100%|█████████████████████████████████████████| 150/150 [00:22<00:00,  6.71it/s]\n"
     ]
    },
    {
     "name": "stdout",
     "output_type": "stream",
     "text": [
      "Starting epoch 2\n"
     ]
    },
    {
     "name": "stderr",
     "output_type": "stream",
     "text": [
      "100%|█████████████████████████████████████████| 150/150 [00:22<00:00,  6.56it/s]\n"
     ]
    },
    {
     "name": "stdout",
     "output_type": "stream",
     "text": [
      "Starting epoch 3\n"
     ]
    },
    {
     "name": "stderr",
     "output_type": "stream",
     "text": [
      "  1%|▌                                          | 2/150 [00:00<00:56,  2.60it/s]"
     ]
    }
   ],
   "source": [
    "train_iter_log_freq = 50\n",
    "\n",
    "# first to see how it works out of box\n",
    "model.eval()\n",
    "test_results = test(dataset_gallery, dataset_query, model, accuracy_calculator)\n",
    "wandb.log({\"test/map@1\": test_results['precision_at_1']})\n",
    "wandb.log({\"test/map@5\": test_results['mean_average_precision']})\n",
    "model.train()\n",
    "\n",
    "i = 0\n",
    "mean_loss = 0\n",
    "for epoch in range(parameters['n_epochs']):\n",
    "    print(f'Starting epoch {epoch}')\n",
    "    wandb.log({\"epoch\": epoch})\n",
    "    \n",
    "    for data, labels in tqdm(dataloader_train):\n",
    "        data = data.cuda()\n",
    "        labels = labels.cuda()\n",
    "        optimizer.zero_grad()\n",
    "        embeddings = model(data)\n",
    "        hard_pairs = miner(embeddings, labels)\n",
    "        loss = loss_func(embeddings, labels, hard_pairs)\n",
    "        mean_loss += loss.item()\n",
    "        \n",
    "        loss.backward()\n",
    "        optimizer.step()\n",
    "        if (i + 1) % train_iter_log_freq == 0:\n",
    "            mean_loss /= train_iter_log_freq\n",
    "            wandb.log({\"train/loss\": mean_loss})\n",
    "            mean_loss = 0\n",
    "        i += 1\n",
    "        \n",
    "    wandb.log({\"train/lr\": optimizer.param_groups[0][\"lr\"]})\n",
    "    scheduler.step()\n",
    "    if (epoch + 1) % 10 == 0:\n",
    "        # query!\n",
    "        model.eval()\n",
    "        test_results = test(dataset_gallery, dataset_query, model, accuracy_calculator)\n",
    "        wandb.log({\"test/map@1\": test_results['precision_at_1']})\n",
    "        wandb.log({\"test/map@5\": test_results['mean_average_precision']})\n",
    "        model.train()"
   ]
  },
  {
   "cell_type": "code",
   "execution_count": null,
   "metadata": {},
   "outputs": [],
   "source": [
    "test_results = test(dataset_train, dataset_train, model, accuracy_calculator)"
   ]
  },
  {
   "cell_type": "code",
   "execution_count": 22,
   "metadata": {},
   "outputs": [
    {
     "data": {
      "text/plain": [
       "{'mean_average_precision': 0.8537094955024545,\n",
       " 'precision_at_1': 0.8352840422495005}"
      ]
     },
     "execution_count": 22,
     "metadata": {},
     "output_type": "execute_result"
    }
   ],
   "source": [
    "test_results"
   ]
  },
  {
   "cell_type": "code",
   "execution_count": null,
   "metadata": {},
   "outputs": [],
   "source": []
  }
 ],
 "metadata": {
  "kernelspec": {
   "display_name": "Python 3 (ipykernel)",
   "language": "python",
   "name": "python3"
  },
  "language_info": {
   "codemirror_mode": {
    "name": "ipython",
    "version": 3
   },
   "file_extension": ".py",
   "mimetype": "text/x-python",
   "name": "python",
   "nbconvert_exporter": "python",
   "pygments_lexer": "ipython3",
   "version": "3.9.7"
  }
 },
 "nbformat": 4,
 "nbformat_minor": 2
}
